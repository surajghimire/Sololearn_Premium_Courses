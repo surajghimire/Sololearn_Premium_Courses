{
  "nbformat": 4,
  "nbformat_minor": 0,
  "metadata": {
    "colab": {
      "name": "Python Course Solo learn.ipynb",
      "provenance": []
    },
    "kernelspec": {
      "name": "python3",
      "display_name": "Python 3"
    }
  },
  "cells": [
    {
      "cell_type": "code",
      "metadata": {
        "id": "k6b0BHTjKXRf"
      },
      "source": [
        ""
      ],
      "execution_count": null,
      "outputs": []
    },
    {
      "cell_type": "markdown",
      "metadata": {
        "id": "qSEQhaSOKpJy"
      },
      "source": [
        "Concatenation"
      ]
    },
    {
      "cell_type": "code",
      "metadata": {
        "id": "rQRTgwb_KmOT",
        "outputId": "5ba675bc-82d5-4e7b-c6d8-e1d4389adc19",
        "colab": {
          "base_uri": "https://localhost:8080/",
          "height": 34
        }
      },
      "source": [
        "print(\"Spam\" + \"Eggs\")"
      ],
      "execution_count": 1,
      "outputs": [
        {
          "output_type": "stream",
          "text": [
            "SpamEggs\n"
          ],
          "name": "stdout"
        }
      ]
    },
    {
      "cell_type": "code",
      "metadata": {
        "id": "BK3B0laeKuey",
        "outputId": "e77d23fd-b02e-470e-e6d8-fe2ef9873cdc",
        "colab": {
          "base_uri": "https://localhost:8080/",
          "height": 34
        }
      },
      "source": [
        "print(\"2\" + \"2\")"
      ],
      "execution_count": 2,
      "outputs": [
        {
          "output_type": "stream",
          "text": [
            "22\n"
          ],
          "name": "stdout"
        }
      ]
    },
    {
      "cell_type": "code",
      "metadata": {
        "id": "XgUtnM7VK0ue",
        "outputId": "ae157ae0-0d61-4b48-b2c9-cf2e861da0b7",
        "colab": {
          "base_uri": "https://localhost:8080/",
          "height": 51
        }
      },
      "source": [
        "print(\"spam \" * 3)\n",
        "\n",
        "print(4 * '2')"
      ],
      "execution_count": 4,
      "outputs": [
        {
          "output_type": "stream",
          "text": [
            "spam spam spam \n",
            "2222\n"
          ],
          "name": "stdout"
        }
      ]
    },
    {
      "cell_type": "markdown",
      "metadata": {
        "id": "kDtd2_RiLncH"
      },
      "source": [
        "Input from user"
      ]
    },
    {
      "cell_type": "code",
      "metadata": {
        "id": "UUt5Cp0PK8Ni",
        "outputId": "018b51d3-c4c6-4e02-ee2f-ebb4a352f411",
        "colab": {
          "base_uri": "https://localhost:8080/",
          "height": 51
        }
      },
      "source": [
        "x=input()\n",
        "print(x)"
      ],
      "execution_count": 7,
      "outputs": [
        {
          "output_type": "stream",
          "text": [
            "25\n",
            "25\n"
          ],
          "name": "stdout"
        }
      ]
    },
    {
      "cell_type": "code",
      "metadata": {
        "id": "tWbGO7cjLtJV"
      },
      "source": [
        ""
      ],
      "execution_count": null,
      "outputs": []
    }
  ]
}